{
 "cells": [
  {
   "cell_type": "code",
   "execution_count": 1,
   "id": "891513d2-c3a8-4c40-bd4a-61efa88c8d6d",
   "metadata": {
    "execution": {
     "iopub.execute_input": "2024-04-26T04:32:07.205923Z",
     "iopub.status.busy": "2024-04-26T04:32:07.204981Z",
     "iopub.status.idle": "2024-04-26T04:32:07.215180Z",
     "shell.execute_reply": "2024-04-26T04:32:07.213160Z",
     "shell.execute_reply.started": "2024-04-26T04:32:07.205855Z"
    }
   },
   "outputs": [
    {
     "name": "stdout",
     "output_type": "stream",
     "text": [
      "test\n"
     ]
    }
   ],
   "source": [
    "print('test')"
   ]
  },
  {
   "cell_type": "code",
   "execution_count": null,
   "id": "9c680835-1801-4ae5-8b34-bfc9365c8fc5",
   "metadata": {},
   "outputs": [],
   "source": []
  }
 ],
 "metadata": {
  "kernelspec": {
   "display_name": "Python 3 (ipykernel)",
   "language": "python",
   "name": "python3"
  },
  "language_info": {
   "codemirror_mode": {
    "name": "ipython",
    "version": 3
   },
   "file_extension": ".py",
   "mimetype": "text/x-python",
   "name": "python",
   "nbconvert_exporter": "python",
   "pygments_lexer": "ipython3",
   "version": "3.8.10"
  }
 },
 "nbformat": 4,
 "nbformat_minor": 5
}
